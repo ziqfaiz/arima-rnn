{
 "cells": [
  {
   "cell_type": "code",
   "execution_count": 1,
   "id": "66a735d5",
   "metadata": {},
   "outputs": [],
   "source": [
    "from statsmodels.graphics.tsaplots import plot_acf\n",
    "from statsmodels.tsa.stattools import adfuller\n",
    "import matplotlib.pyplot as plt\n",
    "import numpy as np\n",
    "import pandas as pd\n",
    "\n",
    "import warnings\n",
    "warnings.filterwarnings('ignore')\n",
    "\n",
    "%matplotlib inline"
   ]
  },
  {
   "cell_type": "markdown",
   "id": "0c7b5b35",
   "metadata": {},
   "source": [
    "## 3.4.1 Simulate and forecast a random walk "
   ]
  },
  {
   "cell_type": "code",
   "execution_count": 2,
   "id": "5ec0ae25",
   "metadata": {},
   "outputs": [],
   "source": [
    "np.random.seed(40)\n",
    "\n",
    "steps = np.random.standard_normal(500)\n",
    "steps[0] = 10\n",
    "\n",
    "random_walk = np.cumsum(steps)"
   ]
  },
  {
   "cell_type": "code",
   "execution_count": 3,
   "id": "6cbfebac",
   "metadata": {},
   "outputs": [
    {
     "data": {
      "image/png": "[encoded data removed]",
      "text/plain": [
       "<Figure size 432x288 with 1 Axes>"
      ]
     },
     "metadata": {
      "needs_background": "light"
     },
     "output_type": "display_data"
    }
   ],
   "source": [
    "fig, ax = plt.subplots()\n",
    "\n",
    "ax.plot(random_walk)\n",
    "ax.set_xlabel('Timesteps')\n",
    "ax.set_ylabel('Value')\n",
    "\n",
    "plt.tight_layout()"
   ]
  },
  {
   "cell_type": "code",
   "execution_count": 4,
   "id": "6e2b87b5",
   "metadata": {},
   "outputs": [
    {
     "name": "stdout",
     "output_type": "stream",
     "text": [
      "ADF Statistic: -1.5913356419504\n",
      "p-value: 0.48794444566321105\n"
     ]
    }
   ],
   "source": [
    "ADF_result = adfuller(random_walk)\n",
    "\n",
    "print(f'ADF Statistic: {ADF_result[0]}')\n",
    "print(f'p-value: {ADF_result[1]}')"
   ]
  },
  {
   "cell_type": "code",
   "execution_count": 5,
   "id": "bae8e98e",
   "metadata": {},
   "outputs": [],
   "source": [
    "diff_random_walk = np.diff(random_walk, n=1)"
   ]
  },
  {
   "cell_type": "code",
   "execution_count": 6,
   "id": "6d5b6dbb",
   "metadata": {},
   "outputs": [
    {
     "name": "stdout",
     "output_type": "stream",
     "text": [
      "ADF Statistic: -21.97352511752583\n",
      "p-value: 0.0\n"
     ]
    }
   ],
   "source": [
    "ADF_result = adfuller(diff_random_walk)\n",
    "\n",
    "print(f'ADF Statistic: {ADF_result[0]}')\n",
    "print(f'p-value: {ADF_result[1]}')"
   ]
  },
  {
   "cell_type": "code",
   "execution_count": 7,
   "id": "99d72faf",
   "metadata": {},
   "outputs": [],
   "source": [
    "df = pd.DataFrame({'value': random_walk})\n",
    "\n",
    "train = df[:400]\n",
    "test = df[400:]"
   ]
  },
  {
   "cell_type": "code",
   "execution_count": 10,
   "id": "16bcd427",
   "metadata": {},
   "outputs": [
    {
     "data": {
      "text/html": [
       "<div>\n",
       "<style scoped>\n",
       "    .dataframe tbody tr th:only-of-type {\n",
       "        vertical-align: middle;\n",
       "    }\n",
       "\n",
       "    .dataframe tbody tr th {\n",
       "        vertical-align: top;\n",
       "    }\n",
       "\n",
       "    .dataframe thead th {\n",
       "        text-align: right;\n",
       "    }\n",
       "</style>\n",
       "<table border=\"1\" class=\"dataframe\">\n",
       "  <thead>\n",
       "    <tr style=\"text-align: right;\">\n",
       "      <th></th>\n",
       "      <th>value</th>\n",
       "      <th>pred_mean</th>\n",
       "    </tr>\n",
       "  </thead>\n",
       "  <tbody>\n",
       "    <tr>\n",
       "      <th>400</th>\n",
       "      <td>3.535928</td>\n",
       "      <td>4.571965</td>\n",
       "    </tr>\n",
       "    <tr>\n",
       "      <th>401</th>\n",
       "      <td>3.627021</td>\n",
       "      <td>4.571965</td>\n",
       "    </tr>\n",
       "    <tr>\n",
       "      <th>402</th>\n",
       "      <td>2.928230</td>\n",
       "      <td>4.571965</td>\n",
       "    </tr>\n",
       "    <tr>\n",
       "      <th>403</th>\n",
       "      <td>4.910073</td>\n",
       "      <td>4.571965</td>\n",
       "    </tr>\n",
       "    <tr>\n",
       "      <th>404</th>\n",
       "      <td>5.861157</td>\n",
       "      <td>4.571965</td>\n",
       "    </tr>\n",
       "  </tbody>\n",
       "</table>\n",
       "</div>"
      ],
      "text/plain": [
       "        value  pred_mean\n",
       "400  3.535928   4.571965\n",
       "401  3.627021   4.571965\n",
       "402  2.928230   4.571965\n",
       "403  4.910073   4.571965\n",
       "404  5.861157   4.571965"
      ]
     },
     "execution_count": 10,
     "metadata": {},
     "output_type": "execute_result"
    }
   ],
   "source": [
    "# Predict the mean\n",
    "mean = np.mean(train.value)\n",
    "\n",
    "test.loc[:, 'pred_mean'] = mean\n",
    "\n",
    "test.head()"
   ]
  },
  {
   "cell_type": "code",
   "execution_count": 11,
   "id": "c4ba542d",
   "metadata": {},
   "outputs": [
    {
     "data": {
      "text/html": [
       "<div>\n",
       "<style scoped>\n",
       "    .dataframe tbody tr th:only-of-type {\n",
       "        vertical-align: middle;\n",
       "    }\n",
       "\n",
       "    .dataframe tbody tr th {\n",
       "        vertical-align: top;\n",
       "    }\n",
       "\n",
       "    .dataframe thead th {\n",
       "        text-align: right;\n",
       "    }\n",
       "</style>\n",
       "<table border=\"1\" class=\"dataframe\">\n",
       "  <thead>\n",
       "    <tr style=\"text-align: right;\">\n",
       "      <th></th>\n",
       "      <th>value</th>\n",
       "      <th>pred_mean</th>\n",
       "      <th>pred_last</th>\n",
       "    </tr>\n",
       "  </thead>\n",
       "  <tbody>\n",
       "    <tr>\n",
       "      <th>400</th>\n",
       "      <td>3.535928</td>\n",
       "      <td>4.571965</td>\n",
       "      <td>2.960159</td>\n",
       "    </tr>\n",
       "    <tr>\n",
       "      <th>401</th>\n",
       "      <td>3.627021</td>\n",
       "      <td>4.571965</td>\n",
       "      <td>2.960159</td>\n",
       "    </tr>\n",
       "    <tr>\n",
       "      <th>402</th>\n",
       "      <td>2.928230</td>\n",
       "      <td>4.571965</td>\n",
       "      <td>2.960159</td>\n",
       "    </tr>\n",
       "    <tr>\n",
       "      <th>403</th>\n",
       "      <td>4.910073</td>\n",
       "      <td>4.571965</td>\n",
       "      <td>2.960159</td>\n",
       "    </tr>\n",
       "    <tr>\n",
       "      <th>404</th>\n",
       "      <td>5.861157</td>\n",
       "      <td>4.571965</td>\n",
       "      <td>2.960159</td>\n",
       "    </tr>\n",
       "  </tbody>\n",
       "</table>\n",
       "</div>"
      ],
      "text/plain": [
       "        value  pred_mean  pred_last\n",
       "400  3.535928   4.571965   2.960159\n",
       "401  3.627021   4.571965   2.960159\n",
       "402  2.928230   4.571965   2.960159\n",
       "403  4.910073   4.571965   2.960159\n",
       "404  5.861157   4.571965   2.960159"
      ]
     },
     "execution_count": 11,
     "metadata": {},
     "output_type": "execute_result"
    }
   ],
   "source": [
    "# Predict the last known value\n",
    "last_value = train.iloc[-1].value\n",
    "\n",
    "test.loc[:, 'pred_last'] = last_value\n",
    "\n",
    "test.head()"
   ]
  },
  {
   "cell_type": "code",
   "execution_count": 24,
   "id": "94043b1d",
   "metadata": {},
   "outputs": [
    {
     "data": {
      "text/html": [
       "<div>\n",
       "<style scoped>\n",
       "    .dataframe tbody tr th:only-of-type {\n",
       "        vertical-align: middle;\n",
       "    }\n",
       "\n",
       "    .dataframe tbody tr th {\n",
       "        vertical-align: top;\n",
       "    }\n",
       "\n",
       "    .dataframe thead th {\n",
       "        text-align: right;\n",
       "    }\n",
       "</style>\n",
       "<table border=\"1\" class=\"dataframe\">\n",
       "  <thead>\n",
       "    <tr style=\"text-align: right;\">\n",
       "      <th></th>\n",
       "      <th>value</th>\n",
       "      <th>pred_mean</th>\n",
       "      <th>pred_last</th>\n",
       "      <th>pred_drift</th>\n",
       "    </tr>\n",
       "  </thead>\n",
       "  <tbody>\n",
       "    <tr>\n",
       "      <th>400</th>\n",
       "      <td>3.535928</td>\n",
       "      <td>4.571965</td>\n",
       "      <td>2.960159</td>\n",
       "      <td>2.960159</td>\n",
       "    </tr>\n",
       "    <tr>\n",
       "      <th>401</th>\n",
       "      <td>3.627021</td>\n",
       "      <td>4.571965</td>\n",
       "      <td>2.960159</td>\n",
       "      <td>2.942559</td>\n",
       "    </tr>\n",
       "    <tr>\n",
       "      <th>402</th>\n",
       "      <td>2.928230</td>\n",
       "      <td>4.571965</td>\n",
       "      <td>2.960159</td>\n",
       "      <td>2.924960</td>\n",
       "    </tr>\n",
       "    <tr>\n",
       "      <th>403</th>\n",
       "      <td>4.910073</td>\n",
       "      <td>4.571965</td>\n",
       "      <td>2.960159</td>\n",
       "      <td>2.907360</td>\n",
       "    </tr>\n",
       "    <tr>\n",
       "      <th>404</th>\n",
       "      <td>5.861157</td>\n",
       "      <td>4.571965</td>\n",
       "      <td>2.960159</td>\n",
       "      <td>2.889760</td>\n",
       "    </tr>\n",
       "  </tbody>\n",
       "</table>\n",
       "</div>"
      ],
      "text/plain": [
       "        value  pred_mean  pred_last  pred_drift\n",
       "400  3.535928   4.571965   2.960159    2.960159\n",
       "401  3.627021   4.571965   2.960159    2.942559\n",
       "402  2.928230   4.571965   2.960159    2.924960\n",
       "403  4.910073   4.571965   2.960159    2.907360\n",
       "404  5.861157   4.571965   2.960159    2.889760"
      ]
     },
     "execution_count": 24,
     "metadata": {},
     "output_type": "execute_result"
    }
   ],
   "source": [
    "# Predict with drift\n",
    "deltaX = 400 - 0\n",
    "deltaY = last_value - 10\n",
    "\n",
    "drift = deltaY / deltaX\n",
    "\n",
    "x_vals = np.arange(400, 500, 1)\n",
    "\n",
    "pred_drift = drift * x_vals + 10\n",
    "\n",
    "test.loc[:, 'pred_drift'] = pred_drift\n",
    "\n",
    "test.head()"
   ]
  },
  {
   "cell_type": "code",
   "execution_count": 25,
   "id": "e66893ef",
   "metadata": {},
   "outputs": [
    {
     "data": {
      "image/png": "[encoded data removed]",
      "text/plain": [
       "<Figure size 432x288 with 1 Axes>"
      ]
     },
     "metadata": {
      "needs_background": "light"
     },
     "output_type": "display_data"
    }
   ],
   "source": [
    "fig, ax = plt.subplots()\n",
    "\n",
    "ax.plot(train['value'], 'b-')\n",
    "ax.plot(test['value'], 'b-')\n",
    "ax.plot(test['pred_mean'], 'r-.', label='Mean')\n",
    "ax.plot(test['pred_last'], 'g--', label='Last value')\n",
    "ax.plot(test['pred_drift'], 'k:', label='Drift')\n",
    "\n",
    "ax.axvspan(400, 500, color='#808080', alpha=0.2)\n",
    "ax.legend(loc=2)\n",
    "\n",
    "ax.set_xlabel('Timesteps')\n",
    "ax.set_ylabel('Value')\n",
    "\n",
    "plt.tight_layout()"
   ]
  },
  {
   "cell_type": "code",
   "execution_count": 27,
   "id": "48b03930",
   "metadata": {},
   "outputs": [
    {
     "name": "stdout",
     "output_type": "stream",
     "text": [
      "34.90129556985136 54.07514083616252 69.38118694822901\n"
     ]
    }
   ],
   "source": [
    "from sklearn.metrics import mean_squared_error\n",
    "\n",
    "mse_mean = mean_squared_error(test['value'], test['pred_mean'])\n",
    "mse_last = mean_squared_error(test['value'], test['pred_last'])\n",
    "mse_drift = mean_squared_error(test['value'], test['pred_drift'])\n",
    "\n",
    "print(mse_mean, mse_last, mse_drift)"
   ]
  },
  {
   "cell_type": "code",
   "execution_count": 28,
   "id": "fab5108c",
   "metadata": {},
   "outputs": [
    {
     "data": {
      "text/plain": [
       "0.670898152293387"
      ]
     },
     "execution_count": 28,
     "metadata": {},
     "output_type": "execute_result"
    }
   ],
   "source": [
    "# Forecast the next timestep\n",
    "df_shift = df.shift(periods=1)\n",
    "\n",
    "mse_one_step = mean_squared_error(test['value'], df_shift[400:])\n",
    "\n",
    "mse_one_step"
   ]
  },
  {
   "cell_type": "code",
   "execution_count": 31,
   "id": "96215053",
   "metadata": {},
   "outputs": [
    {
     "data": {
      "image/png": "[encoded data removed]",
      "text/plain": [
       "<Figure size 432x288 with 1 Axes>"
      ]
     },
     "metadata": {
      "needs_background": "light"
     },
     "output_type": "display_data"
    }
   ],
   "source": [
    "fig, ax = plt.subplots()\n",
    "\n",
    "ax.plot(df, 'b-', label='actual')\n",
    "ax.plot(df_shift[400:], 'r-.', label='forecast')\n",
    "\n",
    "ax.legend(loc=2)\n",
    "\n",
    "ax.set_xlabel('Timesteps')\n",
    "ax.set_ylabel('Value')\n",
    "\n",
    "plt.xlim(300, 500)\n",
    "plt.tight_layout()"
   ]
  },
  {
   "cell_type": "markdown",
   "id": "f09ea1bd",
   "metadata": {},
   "source": [
    "## 3.4.2 Forecast the daily closing price of GOOGL "
   ]
  },
  {
   "cell_type": "code",
   "execution_count": 55,
   "id": "910f86dc",
   "metadata": {},
   "outputs": [
    {
     "data": {
      "text/html": [
       "<div>\n",
       "<style scoped>\n",
       "    .dataframe tbody tr th:only-of-type {\n",
       "        vertical-align: middle;\n",
       "    }\n",
       "\n",
       "    .dataframe tbody tr th {\n",
       "        vertical-align: top;\n",
       "    }\n",
       "\n",
       "    .dataframe thead th {\n",
       "        text-align: right;\n",
       "    }\n",
       "</style>\n",
       "<table border=\"1\" class=\"dataframe\">\n",
       "  <thead>\n",
       "    <tr style=\"text-align: right;\">\n",
       "      <th></th>\n",
       "      <th>Date</th>\n",
       "      <th>Open</th>\n",
       "      <th>High</th>\n",
       "      <th>Low</th>\n",
       "      <th>Close</th>\n",
       "      <th>Adj Close</th>\n",
       "      <th>Volume</th>\n",
       "    </tr>\n",
       "  </thead>\n",
       "  <tbody>\n",
       "    <tr>\n",
       "      <th>0</th>\n",
       "      <td>2020-04-27</td>\n",
       "      <td>1292.000000</td>\n",
       "      <td>1294.099976</td>\n",
       "      <td>1265.060059</td>\n",
       "      <td>1270.859985</td>\n",
       "      <td>1270.859985</td>\n",
       "      <td>2209300</td>\n",
       "    </tr>\n",
       "    <tr>\n",
       "      <th>1</th>\n",
       "      <td>2020-04-28</td>\n",
       "      <td>1283.199951</td>\n",
       "      <td>1284.760010</td>\n",
       "      <td>1230.380005</td>\n",
       "      <td>1232.589966</td>\n",
       "      <td>1232.589966</td>\n",
       "      <td>4035000</td>\n",
       "    </tr>\n",
       "    <tr>\n",
       "      <th>2</th>\n",
       "      <td>2020-04-29</td>\n",
       "      <td>1345.000000</td>\n",
       "      <td>1360.150024</td>\n",
       "      <td>1326.729980</td>\n",
       "      <td>1342.180054</td>\n",
       "      <td>1342.180054</td>\n",
       "      <td>5417900</td>\n",
       "    </tr>\n",
       "    <tr>\n",
       "      <th>3</th>\n",
       "      <td>2020-04-30</td>\n",
       "      <td>1331.359985</td>\n",
       "      <td>1350.000000</td>\n",
       "      <td>1321.500000</td>\n",
       "      <td>1346.699951</td>\n",
       "      <td>1346.699951</td>\n",
       "      <td>2792100</td>\n",
       "    </tr>\n",
       "    <tr>\n",
       "      <th>4</th>\n",
       "      <td>2020-05-01</td>\n",
       "      <td>1324.089966</td>\n",
       "      <td>1351.430054</td>\n",
       "      <td>1309.660034</td>\n",
       "      <td>1317.319946</td>\n",
       "      <td>1317.319946</td>\n",
       "      <td>2443600</td>\n",
       "    </tr>\n",
       "  </tbody>\n",
       "</table>\n",
       "</div>"
      ],
      "text/plain": [
       "         Date         Open         High          Low        Close  \\\n",
       "0  2020-04-27  1292.000000  1294.099976  1265.060059  1270.859985   \n",
       "1  2020-04-28  1283.199951  1284.760010  1230.380005  1232.589966   \n",
       "2  2020-04-29  1345.000000  1360.150024  1326.729980  1342.180054   \n",
       "3  2020-04-30  1331.359985  1350.000000  1321.500000  1346.699951   \n",
       "4  2020-05-01  1324.089966  1351.430054  1309.660034  1317.319946   \n",
       "\n",
       "     Adj Close   Volume  \n",
       "0  1270.859985  2209300  \n",
       "1  1232.589966  4035000  \n",
       "2  1342.180054  5417900  \n",
       "3  1346.699951  2792100  \n",
       "4  1317.319946  2443600  "
      ]
     },
     "execution_count": 55,
     "metadata": {},
     "output_type": "execute_result"
    }
   ],
   "source": [
    "df = pd.read_csv('../data/GOOGL.csv')\n",
    "df.head()"
   ]
  },
  {
   "cell_type": "code",
   "execution_count": 56,
   "id": "93f314be",
   "metadata": {},
   "outputs": [],
   "source": [
    "# Keep the last five days to test your forecasts\n",
    "\n",
    "googl_train = df[['Date','Close']][:-5]\n",
    "googl_test = df[['Date','Close']][-5:]"
   ]
  },
  {
   "cell_type": "code",
   "execution_count": 57,
   "id": "c93bb758",
   "metadata": {},
   "outputs": [
    {
     "data": {
      "text/html": [
       "<div>\n",
       "<style scoped>\n",
       "    .dataframe tbody tr th:only-of-type {\n",
       "        vertical-align: middle;\n",
       "    }\n",
       "\n",
       "    .dataframe tbody tr th {\n",
       "        vertical-align: top;\n",
       "    }\n",
       "\n",
       "    .dataframe thead th {\n",
       "        text-align: right;\n",
       "    }\n",
       "</style>\n",
       "<table border=\"1\" class=\"dataframe\">\n",
       "  <thead>\n",
       "    <tr style=\"text-align: right;\">\n",
       "      <th></th>\n",
       "      <th>Date</th>\n",
       "      <th>Close</th>\n",
       "    </tr>\n",
       "  </thead>\n",
       "  <tbody>\n",
       "    <tr>\n",
       "      <th>248</th>\n",
       "      <td>2021-04-21</td>\n",
       "      <td>2278.350098</td>\n",
       "    </tr>\n",
       "    <tr>\n",
       "      <th>249</th>\n",
       "      <td>2021-04-22</td>\n",
       "      <td>2252.520020</td>\n",
       "    </tr>\n",
       "    <tr>\n",
       "      <th>250</th>\n",
       "      <td>2021-04-23</td>\n",
       "      <td>2299.929932</td>\n",
       "    </tr>\n",
       "    <tr>\n",
       "      <th>251</th>\n",
       "      <td>2021-04-26</td>\n",
       "      <td>2309.929932</td>\n",
       "    </tr>\n",
       "    <tr>\n",
       "      <th>252</th>\n",
       "      <td>2021-04-27</td>\n",
       "      <td>2290.979980</td>\n",
       "    </tr>\n",
       "  </tbody>\n",
       "</table>\n",
       "</div>"
      ],
      "text/plain": [
       "           Date        Close\n",
       "248  2021-04-21  2278.350098\n",
       "249  2021-04-22  2252.520020\n",
       "250  2021-04-23  2299.929932\n",
       "251  2021-04-26  2309.929932\n",
       "252  2021-04-27  2290.979980"
      ]
     },
     "execution_count": 57,
     "metadata": {},
     "output_type": "execute_result"
    }
   ],
   "source": [
    "googl_test"
   ]
  },
  {
   "cell_type": "code",
   "execution_count": 58,
   "id": "c97f3aa9",
   "metadata": {},
   "outputs": [
    {
     "data": {
      "text/html": [
       "<div>\n",
       "<style scoped>\n",
       "    .dataframe tbody tr th:only-of-type {\n",
       "        vertical-align: middle;\n",
       "    }\n",
       "\n",
       "    .dataframe tbody tr th {\n",
       "        vertical-align: top;\n",
       "    }\n",
       "\n",
       "    .dataframe thead th {\n",
       "        text-align: right;\n",
       "    }\n",
       "</style>\n",
       "<table border=\"1\" class=\"dataframe\">\n",
       "  <thead>\n",
       "    <tr style=\"text-align: right;\">\n",
       "      <th></th>\n",
       "      <th>Date</th>\n",
       "      <th>Close</th>\n",
       "      <th>pred_mean</th>\n",
       "      <th>pred_last</th>\n",
       "      <th>pred_drift</th>\n",
       "    </tr>\n",
       "  </thead>\n",
       "  <tbody>\n",
       "    <tr>\n",
       "      <th>248</th>\n",
       "      <td>2021-04-21</td>\n",
       "      <td>2278.350098</td>\n",
       "      <td>1689.993184</td>\n",
       "      <td>2279.01001</td>\n",
       "      <td>2279.010010</td>\n",
       "    </tr>\n",
       "    <tr>\n",
       "      <th>249</th>\n",
       "      <td>2021-04-22</td>\n",
       "      <td>2252.520020</td>\n",
       "      <td>1689.993184</td>\n",
       "      <td>2279.01001</td>\n",
       "      <td>2283.075131</td>\n",
       "    </tr>\n",
       "    <tr>\n",
       "      <th>250</th>\n",
       "      <td>2021-04-23</td>\n",
       "      <td>2299.929932</td>\n",
       "      <td>1689.993184</td>\n",
       "      <td>2279.01001</td>\n",
       "      <td>2287.140252</td>\n",
       "    </tr>\n",
       "    <tr>\n",
       "      <th>251</th>\n",
       "      <td>2021-04-26</td>\n",
       "      <td>2309.929932</td>\n",
       "      <td>1689.993184</td>\n",
       "      <td>2279.01001</td>\n",
       "      <td>2291.205373</td>\n",
       "    </tr>\n",
       "    <tr>\n",
       "      <th>252</th>\n",
       "      <td>2021-04-27</td>\n",
       "      <td>2290.979980</td>\n",
       "      <td>1689.993184</td>\n",
       "      <td>2279.01001</td>\n",
       "      <td>2295.270494</td>\n",
       "    </tr>\n",
       "  </tbody>\n",
       "</table>\n",
       "</div>"
      ],
      "text/plain": [
       "           Date        Close    pred_mean   pred_last   pred_drift\n",
       "248  2021-04-21  2278.350098  1689.993184  2279.01001  2279.010010\n",
       "249  2021-04-22  2252.520020  1689.993184  2279.01001  2283.075131\n",
       "250  2021-04-23  2299.929932  1689.993184  2279.01001  2287.140252\n",
       "251  2021-04-26  2309.929932  1689.993184  2279.01001  2291.205373\n",
       "252  2021-04-27  2290.979980  1689.993184  2279.01001  2295.270494"
      ]
     },
     "execution_count": 58,
     "metadata": {},
     "output_type": "execute_result"
    }
   ],
   "source": [
    "# Forecast the historical mean\n",
    "mean = np.mean(googl_train['Close'])\n",
    "googl_test.loc[:, 'pred_mean'] = mean\n",
    "\n",
    "# Forecast using the last knwon value\n",
    "last_value = googl_train['Close'].iloc[-1]\n",
    "googl_test.loc[:, 'pred_last'] = last_value\n",
    "\n",
    "# Forecast using the drift\n",
    "deltaX = len(googl_train)    # The deltaX is basically the length of the training set\n",
    "deltaY = last_value - googl_train['Close'].iloc[0]    # Remember to subtract the initial value of the training set\n",
    "\n",
    "drift = deltaY / deltaX\n",
    "\n",
    "x_vals = np.arange(248, 253, 1)\n",
    "\n",
    "pred_drift = drift * x_vals + googl_train['Close'].iloc[0]    #A Add the initial value back in the predictions\n",
    "\n",
    "googl_test.loc[:, 'pred_drift'] = pred_drift\n",
    "\n",
    "googl_test"
   ]
  },
  {
   "cell_type": "code",
   "execution_count": 59,
   "id": "46b0476c",
   "metadata": {},
   "outputs": [
    {
     "name": "stdout",
     "output_type": "stream",
     "text": [
      "356025.9670153929 447.82398976418415 293.3287644069853\n"
     ]
    }
   ],
   "source": [
    "googl_mse_mean = mean_squared_error(googl_test['Close'], googl_test['pred_mean'])\n",
    "googl_mse_last = mean_squared_error(googl_test['Close'], googl_test['pred_last'])\n",
    "googl_mse_drift = mean_squared_error(googl_test['Close'], googl_test['pred_drift'])\n",
    "\n",
    "print(googl_mse_mean, googl_mse_last, googl_mse_drift)"
   ]
  },
  {
   "cell_type": "code",
   "execution_count": 61,
   "id": "85e87b3b",
   "metadata": {},
   "outputs": [
    {
     "data": {
      "image/png": "[encoded data removed]",
      "text/plain": [
       "<Figure size 432x288 with 1 Axes>"
      ]
     },
     "metadata": {
      "needs_background": "light"
     },
     "output_type": "display_data"
    }
   ],
   "source": [
    "fig, ax = plt.subplots()\n",
    "\n",
    "ax.plot(googl_train['Close'], 'b-')\n",
    "ax.plot(googl_test['Close'], 'b-')\n",
    "ax.plot(googl_test['pred_mean'], 'r-.', label='Mean')\n",
    "ax.plot(googl_test['pred_last'], 'g--', label='Last value')\n",
    "ax.plot(googl_test['pred_drift'], 'k:', label='Drift')\n",
    "\n",
    "ax.axvspan(248, 252, color='#808080', alpha=0.2)\n",
    "ax.legend(loc=2)\n",
    "\n",
    "ax.set_xlabel('Timesteps')\n",
    "ax.set_ylabel('Value')\n",
    "\n",
    "plt.xlim(230, 252)\n",
    "plt.tight_layout()"
   ]
  },
  {
   "cell_type": "code",
   "execution_count": 62,
   "id": "495f414e",
   "metadata": {},
   "outputs": [
    {
     "data": {
      "text/plain": [
       "674.8857699967758"
      ]
     },
     "execution_count": 62,
     "metadata": {},
     "output_type": "execute_result"
    }
   ],
   "source": [
    "# Forecast the next timestep\n",
    "df_shift = df.shift(periods=1)\n",
    "\n",
    "mse_one_step = mean_squared_error(googl_test['Close'], df_shift['Close'].iloc[248:])\n",
    "\n",
    "mse_one_step"
   ]
  },
  {
   "cell_type": "code",
   "execution_count": 67,
   "id": "491c4a96",
   "metadata": {},
   "outputs": [
    {
     "data": {
      "image/png": "[encoded data removed]",
      "text/plain": [
       "<Figure size 432x288 with 1 Axes>"
      ]
     },
     "metadata": {
      "needs_background": "light"
     },
     "output_type": "display_data"
    }
   ],
   "source": [
    "fig, ax = plt.subplots()\n",
    "\n",
    "ax.plot(df['Close'], 'b-', label='actual')\n",
    "ax.plot(df_shift['Close'].iloc[248:], 'r-.', label='forecast')\n",
    "\n",
    "ax.axvspan(248, 252, color='#808080', alpha=0.2)\n",
    "\n",
    "ax.legend(loc='best')\n",
    "\n",
    "ax.set_xlabel('Timesteps')\n",
    "ax.set_ylabel('Value')\n",
    "\n",
    "plt.xlim(240, 252)\n",
    "plt.ylim(2200, 2400)\n",
    "plt.tight_layout()"
   ]
  },
  {
   "cell_type": "code",
   "execution_count": null,
   "id": "57c48864",
   "metadata": {},
   "outputs": [],
   "source": []
  }
 ],
 "metadata": {
  "kernelspec": {
   "display_name": "Python 3 (ipykernel)",
   "language": "python",
   "name": "python3"
  },
  "language_info": {
   "codemirror_mode": {
    "name": "ipython",
    "version": 3
   },
   "file_extension": ".py",
   "mimetype": "text/x-python",
   "name": "python",
   "nbconvert_exporter": "python",
   "pygments_lexer": "ipython3",
   "version": "3.7.4"
  }
 },
 "nbformat": 4,
 "nbformat_minor": 5
}
