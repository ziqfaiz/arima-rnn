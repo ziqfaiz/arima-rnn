{
 "cells": [
  {
   "cell_type": "code",
   "execution_count": 1,
   "id": "075d1c61",
   "metadata": {},
   "outputs": [],
   "source": [
    "from sklearn.metrics import mean_squared_error, mean_absolute_error\n",
    "from statsmodels.graphics.tsaplots import plot_acf, plot_pacf\n",
    "from statsmodels.stats.diagnostic import acorr_ljungbox\n",
    "from statsmodels.tsa.statespace.sarimax import SARIMAX\n",
    "from statsmodels.tsa.arima_process import ArmaProcess\n",
    "from statsmodels.graphics.gofplots import qqplot\n",
    "from statsmodels.tsa.stattools import adfuller\n",
    "from tqdm import tqdm_notebook\n",
    "from itertools import product\n",
    "from typing import Union\n",
    "\n",
    "import matplotlib.pyplot as plt\n",
    "import numpy as np\n",
    "import pandas as pd\n",
    "\n",
    "import warnings\n",
    "warnings.filterwarnings('ignore')\n",
    "\n",
    "%matplotlib inline"
   ]
  },
  {
   "cell_type": "markdown",
   "id": "e5965624",
   "metadata": {},
   "source": [
    "##  Apply the ARIMA(p,d,q) model on the datasets from chapters 4, 5 and 6"
   ]
  },
  {
   "cell_type": "markdown",
   "id": "33318a6f",
   "metadata": {},
   "source": [
    "### ARIMA(p,d,q) in chapter 4 "
   ]
  },
  {
   "cell_type": "code",
   "execution_count": 2,
   "id": "71de8b75",
   "metadata": {},
   "outputs": [
    {
     "data": {
      "text/html": [
       "<div>\n",
       "<style scoped>\n",
       "    .dataframe tbody tr th:only-of-type {\n",
       "        vertical-align: middle;\n",
       "    }\n",
       "\n",
       "    .dataframe tbody tr th {\n",
       "        vertical-align: top;\n",
       "    }\n",
       "\n",
       "    .dataframe thead th {\n",
       "        text-align: right;\n",
       "    }\n",
       "</style>\n",
       "<table border=\"1\" class=\"dataframe\">\n",
       "  <thead>\n",
       "    <tr style=\"text-align: right;\">\n",
       "      <th></th>\n",
       "      <th>widget_sales</th>\n",
       "    </tr>\n",
       "  </thead>\n",
       "  <tbody>\n",
       "    <tr>\n",
       "      <th>0</th>\n",
       "      <td>50.496714</td>\n",
       "    </tr>\n",
       "    <tr>\n",
       "      <th>1</th>\n",
       "      <td>50.805493</td>\n",
       "    </tr>\n",
       "    <tr>\n",
       "      <th>2</th>\n",
       "      <td>51.477758</td>\n",
       "    </tr>\n",
       "    <tr>\n",
       "      <th>3</th>\n",
       "      <td>53.542228</td>\n",
       "    </tr>\n",
       "    <tr>\n",
       "      <th>4</th>\n",
       "      <td>54.873108</td>\n",
       "    </tr>\n",
       "  </tbody>\n",
       "</table>\n",
       "</div>"
      ],
      "text/plain": [
       "   widget_sales\n",
       "0     50.496714\n",
       "1     50.805493\n",
       "2     51.477758\n",
       "3     53.542228\n",
       "4     54.873108"
      ]
     },
     "execution_count": 2,
     "metadata": {},
     "output_type": "execute_result"
    }
   ],
   "source": [
    "df_ch4 = pd.read_csv('../data/widget_sales.csv')\n",
    "\n",
    "df_ch4.head()"
   ]
  },
  {
   "cell_type": "code",
   "execution_count": 4,
   "id": "8eab36e9",
   "metadata": {},
   "outputs": [
    {
     "data": {
      "image/png": "[encoded data removed]",
      "text/plain": [
       "<Figure size 432x288 with 1 Axes>"
      ]
     },
     "metadata": {
      "needs_background": "light"
     },
     "output_type": "display_data"
    }
   ],
   "source": [
    "fig, ax = plt.subplots()\n",
    "\n",
    "ax.plot(df_ch4['widget_sales'])\n",
    "ax.set_xlabel('Time')\n",
    "ax.set_ylabel('Widget sales (k$)')\n",
    "\n",
    "plt.xticks(\n",
    "    [0, 30, 57, 87, 116, 145, 175, 204, 234, 264, 293, 323, 352, 382, 409, 439, 468, 498], \n",
    "    ['Jan 2019', 'Feb', 'Mar', 'Apr', 'May', 'Jun', 'Jul', 'Aug', 'Sep', 'Oct', 'Nov', 'Dec', 'Jan 2020', 'Feb', 'Mar', 'Apr', 'May', 'Jun'])\n",
    "\n",
    "fig.autofmt_xdate()\n",
    "plt.tight_layout()"
   ]
  },
  {
   "cell_type": "code",
   "execution_count": 5,
   "id": "f6ad21a9",
   "metadata": {},
   "outputs": [
    {
     "name": "stdout",
     "output_type": "stream",
     "text": [
      "ADF Statistic: -1.512166206935902\n",
      "p-value: 0.5274845352272619\n"
     ]
    }
   ],
   "source": [
    "ad_fuller_result = adfuller(df_ch4['widget_sales'])\n",
    "\n",
    "print(f'ADF Statistic: {ad_fuller_result[0]}')\n",
    "print(f'p-value: {ad_fuller_result[1]}')"
   ]
  },
  {
   "cell_type": "markdown",
   "id": "773e31ff",
   "metadata": {},
   "source": [
    "The series is not stationary, so let's apply differencing"
   ]
  },
  {
   "cell_type": "code",
   "execution_count": 6,
   "id": "72d99d0c",
   "metadata": {},
   "outputs": [
    {
     "name": "stdout",
     "output_type": "stream",
     "text": [
      "ADF Statistic: -10.576657780341957\n",
      "p-value: 7.076922818587346e-19\n"
     ]
    }
   ],
   "source": [
    "df_ch4_diff = np.diff(df_ch4['widget_sales'], n=1)\n",
    "\n",
    "ad_fuller_result = adfuller(df_ch4_diff)\n",
    "\n",
    "print(f'ADF Statistic: {ad_fuller_result[0]}')\n",
    "print(f'p-value: {ad_fuller_result[1]}')"
   ]
  },
  {
   "cell_type": "markdown",
   "id": "d7610656",
   "metadata": {},
   "source": [
    "The series is stationary. Therefore, we can set $d=1$."
   ]
  },
  {
   "cell_type": "markdown",
   "id": "ca112228",
   "metadata": {},
   "source": [
    "In chapter 4, the test set was the last 50 timesteps. We split the same way here."
   ]
  },
  {
   "cell_type": "code",
   "execution_count": 8,
   "id": "ae30adc9",
   "metadata": {},
   "outputs": [
    {
     "name": "stdout",
     "output_type": "stream",
     "text": [
      "50\n"
     ]
    }
   ],
   "source": [
    "train = df_ch4[:-50]\n",
    "test = df_ch4[-50:]\n",
    "\n",
    "print(len(test))"
   ]
  },
  {
   "cell_type": "code",
   "execution_count": 9,
   "id": "5c40460c",
   "metadata": {},
   "outputs": [],
   "source": [
    "def optimize_ARIMA(endog: Union[pd.Series, list], order_list: list, d: int) -> pd.DataFrame:\n",
    "    \n",
    "    results = []\n",
    "    \n",
    "    for order in tqdm_notebook(order_list):\n",
    "        try: \n",
    "            model = SARIMAX(endog, order=(order[0], d, order[1]), simple_differencing=False).fit(disp=False)\n",
    "        except:\n",
    "            continue\n",
    "            \n",
    "        aic = model.aic\n",
    "        results.append([order, aic])\n",
    "        \n",
    "    result_df = pd.DataFrame(results)\n",
    "    result_df.columns = ['(p,q)', 'AIC']\n",
    "    \n",
    "    #Sort in ascending order, lower AIC is better\n",
    "    result_df = result_df.sort_values(by='AIC', ascending=True).reset_index(drop=True)\n",
    "    \n",
    "    return result_df"
   ]
  },
  {
   "cell_type": "code",
   "execution_count": 10,
   "id": "f2e25f5f",
   "metadata": {},
   "outputs": [],
   "source": [
    "ps = range(0, 4, 1)\n",
    "qs = range(0, 4, 1)\n",
    "d = 1\n",
    "\n",
    "order_list = list(product(ps, qs))"
   ]
  },
  {
   "cell_type": "code",
   "execution_count": 11,
   "id": "ac42f79f",
   "metadata": {},
   "outputs": [
    {
     "data": {
      "application/vnd.jupyter.widget-view+json": {
       "model_id": "3733e3ae17e74589964b418b36fb541c",
       "version_major": 2,
       "version_minor": 0
      },
      "text/plain": [
       "  0%|          | 0/16 [00:00<?, ?it/s]"
      ]
     },
     "metadata": {},
     "output_type": "display_data"
    },
    {
     "data": {
      "text/html": [
       "<div>\n",
       "<style scoped>\n",
       "    .dataframe tbody tr th:only-of-type {\n",
       "        vertical-align: middle;\n",
       "    }\n",
       "\n",
       "    .dataframe tbody tr th {\n",
       "        vertical-align: top;\n",
       "    }\n",
       "\n",
       "    .dataframe thead th {\n",
       "        text-align: right;\n",
       "    }\n",
       "</style>\n",
       "<table border=\"1\" class=\"dataframe\">\n",
       "  <thead>\n",
       "    <tr style=\"text-align: right;\">\n",
       "      <th></th>\n",
       "      <th>(p,q)</th>\n",
       "      <th>AIC</th>\n",
       "    </tr>\n",
       "  </thead>\n",
       "  <tbody>\n",
       "    <tr>\n",
       "      <th>0</th>\n",
       "      <td>(3, 3)</td>\n",
       "      <td>1251.431597</td>\n",
       "    </tr>\n",
       "    <tr>\n",
       "      <th>1</th>\n",
       "      <td>(0, 2)</td>\n",
       "      <td>1254.409302</td>\n",
       "    </tr>\n",
       "    <tr>\n",
       "      <th>2</th>\n",
       "      <td>(2, 1)</td>\n",
       "      <td>1254.961827</td>\n",
       "    </tr>\n",
       "    <tr>\n",
       "      <th>3</th>\n",
       "      <td>(0, 3)</td>\n",
       "      <td>1255.826822</td>\n",
       "    </tr>\n",
       "    <tr>\n",
       "      <th>4</th>\n",
       "      <td>(3, 0)</td>\n",
       "      <td>1255.967595</td>\n",
       "    </tr>\n",
       "    <tr>\n",
       "      <th>5</th>\n",
       "      <td>(1, 2)</td>\n",
       "      <td>1255.982548</td>\n",
       "    </tr>\n",
       "    <tr>\n",
       "      <th>6</th>\n",
       "      <td>(1, 1)</td>\n",
       "      <td>1256.284513</td>\n",
       "    </tr>\n",
       "    <tr>\n",
       "      <th>7</th>\n",
       "      <td>(3, 1)</td>\n",
       "      <td>1256.850863</td>\n",
       "    </tr>\n",
       "    <tr>\n",
       "      <th>8</th>\n",
       "      <td>(2, 2)</td>\n",
       "      <td>1256.918179</td>\n",
       "    </tr>\n",
       "    <tr>\n",
       "      <th>9</th>\n",
       "      <td>(1, 3)</td>\n",
       "      <td>1257.643275</td>\n",
       "    </tr>\n",
       "    <tr>\n",
       "      <th>10</th>\n",
       "      <td>(2, 3)</td>\n",
       "      <td>1258.035117</td>\n",
       "    </tr>\n",
       "    <tr>\n",
       "      <th>11</th>\n",
       "      <td>(3, 2)</td>\n",
       "      <td>1258.745483</td>\n",
       "    </tr>\n",
       "    <tr>\n",
       "      <th>12</th>\n",
       "      <td>(2, 0)</td>\n",
       "      <td>1260.891374</td>\n",
       "    </tr>\n",
       "    <tr>\n",
       "      <th>13</th>\n",
       "      <td>(0, 1)</td>\n",
       "      <td>1280.448420</td>\n",
       "    </tr>\n",
       "    <tr>\n",
       "      <th>14</th>\n",
       "      <td>(1, 0)</td>\n",
       "      <td>1320.133059</td>\n",
       "    </tr>\n",
       "    <tr>\n",
       "      <th>15</th>\n",
       "      <td>(0, 0)</td>\n",
       "      <td>1521.958165</td>\n",
       "    </tr>\n",
       "  </tbody>\n",
       "</table>\n",
       "</div>"
      ],
      "text/plain": [
       "     (p,q)          AIC\n",
       "0   (3, 3)  1251.431597\n",
       "1   (0, 2)  1254.409302\n",
       "2   (2, 1)  1254.961827\n",
       "3   (0, 3)  1255.826822\n",
       "4   (3, 0)  1255.967595\n",
       "5   (1, 2)  1255.982548\n",
       "6   (1, 1)  1256.284513\n",
       "7   (3, 1)  1256.850863\n",
       "8   (2, 2)  1256.918179\n",
       "9   (1, 3)  1257.643275\n",
       "10  (2, 3)  1258.035117\n",
       "11  (3, 2)  1258.745483\n",
       "12  (2, 0)  1260.891374\n",
       "13  (0, 1)  1280.448420\n",
       "14  (1, 0)  1320.133059\n",
       "15  (0, 0)  1521.958165"
      ]
     },
     "execution_count": 11,
     "metadata": {},
     "output_type": "execute_result"
    }
   ],
   "source": [
    "result_df = optimize_ARIMA(train, order_list, d)\n",
    "result_df"
   ]
  },
  {
   "cell_type": "markdown",
   "id": "afe2ab7c",
   "metadata": {},
   "source": [
    "In chapter 4, we used a MA(2) model to predict our time series. Here, using the general modeling procedure, we find an ARIMA(3,1,3) model to have the lowest AIC. Note however that the second lowest AIC is for an ARIMA(0,1,2) model."
   ]
  },
  {
   "cell_type": "code",
   "execution_count": 12,
   "id": "0fb6bde3",
   "metadata": {
    "scrolled": false
   },
   "outputs": [
    {
     "name": "stdout",
     "output_type": "stream",
     "text": [
      "                               SARIMAX Results                                \n",
      "==============================================================================\n",
      "Dep. Variable:           widget_sales   No. Observations:                  450\n",
      "Model:               SARIMAX(3, 1, 3)   Log Likelihood                -618.716\n",
      "Date:                Mon, 10 Jan 2022   AIC                           1251.432\n",
      "Time:                        16:27:42   BIC                           1280.181\n",
      "Sample:                             0   HQIC                          1262.764\n",
      "                                - 450                                         \n",
      "Covariance Type:                  opg                                         \n",
      "==============================================================================\n",
      "                 coef    std err          z      P>|z|      [0.025      0.975]\n",
      "------------------------------------------------------------------------------\n",
      "ar.L1          1.3628      0.064     21.181      0.000       1.237       1.489\n",
      "ar.L2         -1.3525      0.065    -20.834      0.000      -1.480      -1.225\n",
      "ar.L3          0.3507      0.064      5.456      0.000       0.225       0.477\n",
      "ma.L1         -0.5127      0.059     -8.701      0.000      -0.628      -0.397\n",
      "ma.L2          0.4681      0.059      7.911      0.000       0.352       0.584\n",
      "ma.L3          0.5086      0.059      8.569      0.000       0.392       0.625\n",
      "sigma2         0.9131      0.064     14.317      0.000       0.788       1.038\n",
      "===================================================================================\n",
      "Ljung-Box (L1) (Q):                   0.03   Jarque-Bera (JB):                 1.41\n",
      "Prob(Q):                              0.85   Prob(JB):                         0.50\n",
      "Heteroskedasticity (H):               1.06   Skew:                             0.13\n",
      "Prob(H) (two-sided):                  0.71   Kurtosis:                         3.07\n",
      "===================================================================================\n",
      "\n",
      "Warnings:\n",
      "[1] Covariance matrix calculated using the outer product of gradients (complex-step).\n"
     ]
    }
   ],
   "source": [
    "model = SARIMAX(train, order=(3,1,3), simple_differencing=False)\n",
    "model_fit = model.fit(disp=False)\n",
    "\n",
    "print(model_fit.summary())"
   ]
  },
  {
   "cell_type": "code",
   "execution_count": 13,
   "id": "e1cf7637",
   "metadata": {},
   "outputs": [
    {
     "data": {
      "image/png": "[encoded data removed]",
      "text/plain": [
       "<Figure size 720x576 with 4 Axes>"
      ]
     },
     "metadata": {
      "needs_background": "light"
     },
     "output_type": "display_data"
    }
   ],
   "source": [
    "model_fit.plot_diagnostics(figsize=(10,8));"
   ]
  },
  {
   "cell_type": "code",
   "execution_count": 14,
   "id": "611a24ea",
   "metadata": {},
   "outputs": [
    {
     "name": "stdout",
     "output_type": "stream",
     "text": [
      "[0.89359539 0.97746624 0.97052322 0.99202271 0.99792771 0.99438491\n",
      " 0.99713815 0.99878764 0.99953752 0.99982489]\n"
     ]
    }
   ],
   "source": [
    "residuals = model_fit.resid\n",
    "\n",
    "lbvalue, pvalue = acorr_ljungbox(residuals, np.arange(1, 11, 1))\n",
    "\n",
    "print(pvalue)"
   ]
  },
  {
   "cell_type": "code",
   "execution_count": 16,
   "id": "f285aa96",
   "metadata": {},
   "outputs": [],
   "source": [
    "def rolling_forecast(df: pd.DataFrame, train_len: int, horizon: int, window: int, method: str) -> list:\n",
    "    \n",
    "    total_len = train_len + horizon\n",
    "    \n",
    "    if method == 'mean':\n",
    "        pred_mean = []\n",
    "        \n",
    "        for i in range(train_len, total_len, window):\n",
    "            mean = np.mean(df[:i].values)\n",
    "            pred_mean.extend(mean for _ in range(window))\n",
    "\n",
    "        return pred_mean\n",
    "\n",
    "    elif method == 'last':\n",
    "        pred_last_value = []\n",
    "        \n",
    "        for i in range(train_len, total_len, window):\n",
    "            last_value = df[:i].iloc[-1].values[0]\n",
    "            pred_last_value.extend(last_value for _ in range(window))\n",
    "            \n",
    "        return pred_last_value\n",
    "    \n",
    "    elif method == 'ARIMA':\n",
    "        pred_ARIMA = []\n",
    "        \n",
    "        for i in range(train_len, total_len, window):\n",
    "            model = SARIMAX(df[:i], order=(3,1,3))\n",
    "            res = model.fit(disp=False)\n",
    "            predictions = res.get_prediction(0, i + window - 1)\n",
    "            oos_pred = predictions.predicted_mean.iloc[-window:]\n",
    "            pred_ARIMA.extend(oos_pred)\n",
    "            \n",
    "        return pred_ARIMA"
   ]
  },
  {
   "cell_type": "code",
   "execution_count": 18,
   "id": "6be5f9b6",
   "metadata": {},
   "outputs": [
    {
     "data": {
      "text/html": [
       "<div>\n",
       "<style scoped>\n",
       "    .dataframe tbody tr th:only-of-type {\n",
       "        vertical-align: middle;\n",
       "    }\n",
       "\n",
       "    .dataframe tbody tr th {\n",
       "        vertical-align: top;\n",
       "    }\n",
       "\n",
       "    .dataframe thead th {\n",
       "        text-align: right;\n",
       "    }\n",
       "</style>\n",
       "<table border=\"1\" class=\"dataframe\">\n",
       "  <thead>\n",
       "    <tr style=\"text-align: right;\">\n",
       "      <th></th>\n",
       "      <th>widget_sales</th>\n",
       "      <th>pred_mean</th>\n",
       "      <th>pred_last_value</th>\n",
       "      <th>pred_ARIMA</th>\n",
       "    </tr>\n",
       "  </thead>\n",
       "  <tbody>\n",
       "    <tr>\n",
       "      <th>450</th>\n",
       "      <td>64.736005</td>\n",
       "      <td>45.472231</td>\n",
       "      <td>65.906136</td>\n",
       "      <td>64.811469</td>\n",
       "    </tr>\n",
       "    <tr>\n",
       "      <th>451</th>\n",
       "      <td>65.316972</td>\n",
       "      <td>45.472231</td>\n",
       "      <td>65.906136</td>\n",
       "      <td>64.718102</td>\n",
       "    </tr>\n",
       "    <tr>\n",
       "      <th>452</th>\n",
       "      <td>65.172070</td>\n",
       "      <td>45.558754</td>\n",
       "      <td>65.316972</td>\n",
       "      <td>66.242445</td>\n",
       "    </tr>\n",
       "    <tr>\n",
       "      <th>453</th>\n",
       "      <td>65.075506</td>\n",
       "      <td>45.558754</td>\n",
       "      <td>65.316972</td>\n",
       "      <td>66.608945</td>\n",
       "    </tr>\n",
       "    <tr>\n",
       "      <th>454</th>\n",
       "      <td>64.703173</td>\n",
       "      <td>45.644943</td>\n",
       "      <td>65.075506</td>\n",
       "      <td>64.994576</td>\n",
       "    </tr>\n",
       "  </tbody>\n",
       "</table>\n",
       "</div>"
      ],
      "text/plain": [
       "     widget_sales  pred_mean  pred_last_value  pred_ARIMA\n",
       "450     64.736005  45.472231        65.906136   64.811469\n",
       "451     65.316972  45.472231        65.906136   64.718102\n",
       "452     65.172070  45.558754        65.316972   66.242445\n",
       "453     65.075506  45.558754        65.316972   66.608945\n",
       "454     64.703173  45.644943        65.075506   64.994576"
      ]
     },
     "execution_count": 18,
     "metadata": {},
     "output_type": "execute_result"
    }
   ],
   "source": [
    "TRAIN_LEN = len(train)\n",
    "HORIZON = len(test)\n",
    "WINDOW = 2\n",
    "\n",
    "pred_mean = rolling_forecast(df_ch4, TRAIN_LEN, HORIZON, WINDOW, 'mean')\n",
    "pred_last_value = rolling_forecast(df_ch4, TRAIN_LEN, HORIZON, WINDOW, 'last')\n",
    "pred_ARIMA = rolling_forecast(df_ch4, TRAIN_LEN, HORIZON, WINDOW, 'ARIMA')\n",
    "\n",
    "test.loc[:, 'pred_mean'] = pred_mean\n",
    "test.loc[:, 'pred_last_value'] = pred_last_value\n",
    "test.loc[:, 'pred_ARIMA'] = pred_ARIMA\n",
    "\n",
    "test.head()"
   ]
  },
  {
   "cell_type": "markdown",
   "id": "2a8c727e",
   "metadata": {},
   "source": [
    "Using an ARIMA model, we get predictions in the same scale as the orginal data. Therefore, we can go straight to evaluating the model using the mean absolute error (MAE) and compare its performance to what we obtained in chapter 4."
   ]
  },
  {
   "cell_type": "code",
   "execution_count": 19,
   "id": "fa9e2204",
   "metadata": {},
   "outputs": [
    {
     "name": "stdout",
     "output_type": "stream",
     "text": [
      "14.220336729946744 1.819226540180243 1.5731245635276403\n"
     ]
    }
   ],
   "source": [
    "from sklearn.metrics import mean_absolute_error\n",
    "\n",
    "mean_mae = mean_absolute_error(test['widget_sales'], test['pred_mean'])\n",
    "last_mae = mean_absolute_error(test['widget_sales'], test['pred_last_value'])\n",
    "ARIMA_mae = mean_absolute_error(test['widget_sales'], test['pred_ARIMA'])\n",
    "\n",
    "print(mean_mae, last_mae, ARIMA_mae)"
   ]
  },
  {
   "cell_type": "markdown",
   "id": "5b90345d",
   "metadata": {},
   "source": [
    "The ARIMA(3,1,3) model achieves a lower MAE than the MA(2) model we built in chapter 4."
   ]
  },
  {
   "cell_type": "markdown",
   "id": "b9c539ed",
   "metadata": {},
   "source": [
    "### Chapter 5 "
   ]
  },
  {
   "cell_type": "code",
   "execution_count": 20,
   "id": "864187ce",
   "metadata": {},
   "outputs": [
    {
     "data": {
      "text/html": [
       "<div>\n",
       "<style scoped>\n",
       "    .dataframe tbody tr th:only-of-type {\n",
       "        vertical-align: middle;\n",
       "    }\n",
       "\n",
       "    .dataframe tbody tr th {\n",
       "        vertical-align: top;\n",
       "    }\n",
       "\n",
       "    .dataframe thead th {\n",
       "        text-align: right;\n",
       "    }\n",
       "</style>\n",
       "<table border=\"1\" class=\"dataframe\">\n",
       "  <thead>\n",
       "    <tr style=\"text-align: right;\">\n",
       "      <th></th>\n",
       "      <th>foot_traffic</th>\n",
       "    </tr>\n",
       "  </thead>\n",
       "  <tbody>\n",
       "    <tr>\n",
       "      <th>0</th>\n",
       "      <td>500.496714</td>\n",
       "    </tr>\n",
       "    <tr>\n",
       "      <th>1</th>\n",
       "      <td>500.522366</td>\n",
       "    </tr>\n",
       "    <tr>\n",
       "      <th>2</th>\n",
       "      <td>501.426876</td>\n",
       "    </tr>\n",
       "    <tr>\n",
       "      <th>3</th>\n",
       "      <td>503.295990</td>\n",
       "    </tr>\n",
       "    <tr>\n",
       "      <th>4</th>\n",
       "      <td>504.132695</td>\n",
       "    </tr>\n",
       "  </tbody>\n",
       "</table>\n",
       "</div>"
      ],
      "text/plain": [
       "   foot_traffic\n",
       "0    500.496714\n",
       "1    500.522366\n",
       "2    501.426876\n",
       "3    503.295990\n",
       "4    504.132695"
      ]
     },
     "execution_count": 20,
     "metadata": {},
     "output_type": "execute_result"
    }
   ],
   "source": [
    "df_ch5 = pd.read_csv('../data/foot_traffic.csv')\n",
    "\n",
    "df_ch5.head()"
   ]
  },
  {
   "cell_type": "code",
   "execution_count": 21,
   "id": "ee89e82d",
   "metadata": {},
   "outputs": [
    {
     "data": {
      "image/png": "[encoded data removed]",
      "text/plain": [
       "<Figure size 432x288 with 1 Axes>"
      ]
     },
     "metadata": {
      "needs_background": "light"
     },
     "output_type": "display_data"
    }
   ],
   "source": [
    "fig, ax = plt.subplots()\n",
    "\n",
    "ax.plot(df_ch5['foot_traffic'])\n",
    "ax.set_xlabel('Time')\n",
    "ax.set_ylabel('Average weekly foot traffic')\n",
    "\n",
    "plt.xticks(np.arange(0, 1000, 104), np.arange(2000, 2020, 2))\n",
    "\n",
    "fig.autofmt_xdate()\n",
    "plt.tight_layout()"
   ]
  },
  {
   "cell_type": "code",
   "execution_count": 22,
   "id": "8b741bc5",
   "metadata": {},
   "outputs": [
    {
     "name": "stdout",
     "output_type": "stream",
     "text": [
      "ADF Statistic: -1.1758885999240771\n",
      "p-value: 0.683880891789618\n"
     ]
    }
   ],
   "source": [
    "ad_fuller_result = adfuller(df_ch5['foot_traffic'])\n",
    "\n",
    "print(f'ADF Statistic: {ad_fuller_result[0]}')\n",
    "print(f'p-value: {ad_fuller_result[1]}')"
   ]
  },
  {
   "cell_type": "markdown",
   "id": "16fdb3ac",
   "metadata": {},
   "source": [
    "The series is not stationary. Let's apply differencing."
   ]
  },
  {
   "cell_type": "code",
   "execution_count": 23,
   "id": "79817d5d",
   "metadata": {},
   "outputs": [
    {
     "name": "stdout",
     "output_type": "stream",
     "text": [
      "ADF Statistic: -5.268231347422048\n",
      "p-value: 6.369317654781179e-06\n"
     ]
    }
   ],
   "source": [
    "df_ch5_diff = np.diff(df_ch5['foot_traffic'], n=1)\n",
    "\n",
    "ad_fuller_result = adfuller(df_ch5_diff)\n",
    "\n",
    "print(f'ADF Statistic: {ad_fuller_result[0]}')\n",
    "print(f'p-value: {ad_fuller_result[1]}')"
   ]
  },
  {
   "cell_type": "markdown",
   "id": "ad8e6ee5",
   "metadata": {},
   "source": [
    "The series is now statioanry. We can set $d=1$."
   ]
  },
  {
   "cell_type": "markdown",
   "id": "6f5a69f5",
   "metadata": {},
   "source": [
    "In chapter 5, the test set had the last 52 timesteps. We do the same split here."
   ]
  },
  {
   "cell_type": "code",
   "execution_count": 24,
   "id": "99393ae9",
   "metadata": {},
   "outputs": [
    {
     "name": "stdout",
     "output_type": "stream",
     "text": [
      "52\n"
     ]
    }
   ],
   "source": [
    "train = df_ch5[:-52]\n",
    "test = df_ch5[-52:]\n",
    "\n",
    "print(len(test))"
   ]
  },
  {
   "cell_type": "code",
   "execution_count": 25,
   "id": "cc76cc24",
   "metadata": {},
   "outputs": [],
   "source": [
    "ps = range(0, 4, 1)\n",
    "qs = range(0, 4, 1)\n",
    "d = 1\n",
    "\n",
    "order_list = list(product(ps, qs))"
   ]
  },
  {
   "cell_type": "code",
   "execution_count": 26,
   "id": "b8f81e84",
   "metadata": {},
   "outputs": [
    {
     "data": {
      "application/vnd.jupyter.widget-view+json": {
       "model_id": "05c96c2ad49849b7bb1aad2adfd4c0f3",
       "version_major": 2,
       "version_minor": 0
      },
      "text/plain": [
       "  0%|          | 0/16 [00:00<?, ?it/s]"
      ]
     },
     "metadata": {},
     "output_type": "display_data"
    },
    {
     "data": {
      "text/html": [
       "<div>\n",
       "<style scoped>\n",
       "    .dataframe tbody tr th:only-of-type {\n",
       "        vertical-align: middle;\n",
       "    }\n",
       "\n",
       "    .dataframe tbody tr th {\n",
       "        vertical-align: top;\n",
       "    }\n",
       "\n",
       "    .dataframe thead th {\n",
       "        text-align: right;\n",
       "    }\n",
       "</style>\n",
       "<table border=\"1\" class=\"dataframe\">\n",
       "  <thead>\n",
       "    <tr style=\"text-align: right;\">\n",
       "      <th></th>\n",
       "      <th>(p,q)</th>\n",
       "      <th>AIC</th>\n",
       "    </tr>\n",
       "  </thead>\n",
       "  <tbody>\n",
       "    <tr>\n",
       "      <th>0</th>\n",
       "      <td>(1, 3)</td>\n",
       "      <td>2658.013441</td>\n",
       "    </tr>\n",
       "    <tr>\n",
       "      <th>1</th>\n",
       "      <td>(3, 1)</td>\n",
       "      <td>2658.595081</td>\n",
       "    </tr>\n",
       "    <tr>\n",
       "      <th>2</th>\n",
       "      <td>(3, 0)</td>\n",
       "      <td>2658.691777</td>\n",
       "    </tr>\n",
       "    <tr>\n",
       "      <th>3</th>\n",
       "      <td>(2, 1)</td>\n",
       "      <td>2659.873751</td>\n",
       "    </tr>\n",
       "    <tr>\n",
       "      <th>4</th>\n",
       "      <td>(3, 2)</td>\n",
       "      <td>2659.916852</td>\n",
       "    </tr>\n",
       "    <tr>\n",
       "      <th>5</th>\n",
       "      <td>(2, 3)</td>\n",
       "      <td>2659.977855</td>\n",
       "    </tr>\n",
       "    <tr>\n",
       "      <th>6</th>\n",
       "      <td>(3, 3)</td>\n",
       "      <td>2660.802093</td>\n",
       "    </tr>\n",
       "    <tr>\n",
       "      <th>7</th>\n",
       "      <td>(2, 2)</td>\n",
       "      <td>2661.229924</td>\n",
       "    </tr>\n",
       "    <tr>\n",
       "      <th>8</th>\n",
       "      <td>(2, 0)</td>\n",
       "      <td>2667.725827</td>\n",
       "    </tr>\n",
       "    <tr>\n",
       "      <th>9</th>\n",
       "      <td>(1, 2)</td>\n",
       "      <td>2669.719835</td>\n",
       "    </tr>\n",
       "    <tr>\n",
       "      <th>10</th>\n",
       "      <td>(1, 1)</td>\n",
       "      <td>2713.373289</td>\n",
       "    </tr>\n",
       "    <tr>\n",
       "      <th>11</th>\n",
       "      <td>(1, 0)</td>\n",
       "      <td>2965.132441</td>\n",
       "    </tr>\n",
       "    <tr>\n",
       "      <th>12</th>\n",
       "      <td>(0, 3)</td>\n",
       "      <td>2981.704353</td>\n",
       "    </tr>\n",
       "    <tr>\n",
       "      <th>13</th>\n",
       "      <td>(0, 2)</td>\n",
       "      <td>3136.394249</td>\n",
       "    </tr>\n",
       "    <tr>\n",
       "      <th>14</th>\n",
       "      <td>(0, 1)</td>\n",
       "      <td>3465.211019</td>\n",
       "    </tr>\n",
       "    <tr>\n",
       "      <th>15</th>\n",
       "      <td>(0, 0)</td>\n",
       "      <td>3847.483834</td>\n",
       "    </tr>\n",
       "  </tbody>\n",
       "</table>\n",
       "</div>"
      ],
      "text/plain": [
       "     (p,q)          AIC\n",
       "0   (1, 3)  2658.013441\n",
       "1   (3, 1)  2658.595081\n",
       "2   (3, 0)  2658.691777\n",
       "3   (2, 1)  2659.873751\n",
       "4   (3, 2)  2659.916852\n",
       "5   (2, 3)  2659.977855\n",
       "6   (3, 3)  2660.802093\n",
       "7   (2, 2)  2661.229924\n",
       "8   (2, 0)  2667.725827\n",
       "9   (1, 2)  2669.719835\n",
       "10  (1, 1)  2713.373289\n",
       "11  (1, 0)  2965.132441\n",
       "12  (0, 3)  2981.704353\n",
       "13  (0, 2)  3136.394249\n",
       "14  (0, 1)  3465.211019\n",
       "15  (0, 0)  3847.483834"
      ]
     },
     "execution_count": 26,
     "metadata": {},
     "output_type": "execute_result"
    }
   ],
   "source": [
    "result_df = optimize_ARIMA(train, order_list, d)\n",
    "result_df"
   ]
  },
  {
   "cell_type": "markdown",
   "id": "ba7d494f",
   "metadata": {},
   "source": [
    "Here, an ARIMA(1,1,3) model achieves the lowest AIC, but we can see that the top 3 models all have very similar AICs with differences in the decimal place. Notice that the third top model is an ARIMA(3,1,0)."
   ]
  },
  {
   "cell_type": "code",
   "execution_count": 27,
   "id": "0392226c",
   "metadata": {},
   "outputs": [
    {
     "name": "stdout",
     "output_type": "stream",
     "text": [
      "                               SARIMAX Results                                \n",
      "==============================================================================\n",
      "Dep. Variable:           foot_traffic   No. Observations:                  948\n",
      "Model:               SARIMAX(3, 1, 0)   Log Likelihood               -1325.346\n",
      "Date:                Mon, 10 Jan 2022   AIC                           2658.692\n",
      "Time:                        16:50:03   BIC                           2678.105\n",
      "Sample:                             0   HQIC                          2666.090\n",
      "                                - 948                                         \n",
      "Covariance Type:                  opg                                         \n",
      "==============================================================================\n",
      "                 coef    std err          z      P>|z|      [0.025      0.975]\n",
      "------------------------------------------------------------------------------\n",
      "ar.L1          0.3165      0.033      9.603      0.000       0.252       0.381\n",
      "ar.L2          0.4802      0.031     15.510      0.000       0.419       0.541\n",
      "ar.L3          0.1077      0.034      3.156      0.002       0.041       0.175\n",
      "sigma2         0.9603      0.043     22.180      0.000       0.875       1.045\n",
      "===================================================================================\n",
      "Ljung-Box (L1) (Q):                   0.02   Jarque-Bera (JB):                 3.82\n",
      "Prob(Q):                              0.90   Prob(JB):                         0.15\n",
      "Heteroskedasticity (H):               1.02   Skew:                             0.15\n",
      "Prob(H) (two-sided):                  0.84   Kurtosis:                         3.09\n",
      "===================================================================================\n",
      "\n",
      "Warnings:\n",
      "[1] Covariance matrix calculated using the outer product of gradients (complex-step).\n"
     ]
    }
   ],
   "source": [
    "model = SARIMAX(train, order=(3,1,0), simple_differencing=False)\n",
    "model_fit = model.fit(disp=False)\n",
    "\n",
    "print(model_fit.summary())"
   ]
  },
  {
   "cell_type": "code",
   "execution_count": 28,
   "id": "95b07bd2",
   "metadata": {},
   "outputs": [
    {
     "data": {
      "image/png": "[encoded data removed]",
      "text/plain": [
       "<Figure size 720x576 with 4 Axes>"
      ]
     },
     "metadata": {
      "needs_background": "light"
     },
     "output_type": "display_data"
    }
   ],
   "source": [
    "model_fit.plot_diagnostics(figsize=(10,8));"
   ]
  },
  {
   "cell_type": "code",
   "execution_count": 29,
   "id": "05c9bb13",
   "metadata": {},
   "outputs": [
    {
     "name": "stdout",
     "output_type": "stream",
     "text": [
      "[0.99942003 0.99852437 0.99968546 0.99998334 0.99999921 0.99999982\n",
      " 0.99999999 1.         1.         1.        ]\n"
     ]
    }
   ],
   "source": [
    "residuals = model_fit.resid\n",
    "\n",
    "lbvalue, pvalue = acorr_ljungbox(residuals, np.arange(1, 11, 1))\n",
    "\n",
    "print(pvalue)"
   ]
  },
  {
   "cell_type": "code",
   "execution_count": 30,
   "id": "fce87397",
   "metadata": {},
   "outputs": [],
   "source": [
    "def rolling_forecast(df: pd.DataFrame, train_len: int, horizon: int, window: int, method: str) -> list:\n",
    "    \n",
    "    total_len = train_len + horizon\n",
    "    \n",
    "    if method == 'mean':\n",
    "        pred_mean = []\n",
    "        \n",
    "        for i in range(train_len, total_len, window):\n",
    "            mean = np.mean(df[:i].values)\n",
    "            pred_mean.extend(mean for _ in range(window))\n",
    "\n",
    "        return pred_mean\n",
    "\n",
    "    elif method == 'last':\n",
    "        pred_last_value = []\n",
    "        \n",
    "        for i in range(train_len, total_len, window):\n",
    "            last_value = df[:i].iloc[-1].values[0]\n",
    "            pred_last_value.extend(last_value for _ in range(window))\n",
    "            \n",
    "        return pred_last_value\n",
    "    \n",
    "    elif method == 'ARIMA':\n",
    "        pred_ARIMA = []\n",
    "        \n",
    "        for i in range(train_len, total_len, window):\n",
    "            model = SARIMAX(df[:i], order=(3,1,0))\n",
    "            res = model.fit(disp=False)\n",
    "            predictions = res.get_prediction(0, i + window - 1)\n",
    "            oos_pred = predictions.predicted_mean.iloc[-window:]\n",
    "            pred_ARIMA.extend(oos_pred)\n",
    "            \n",
    "        return pred_ARIMA"
   ]
  },
  {
   "cell_type": "code",
   "execution_count": 32,
   "id": "90ad1818",
   "metadata": {},
   "outputs": [
    {
     "data": {
      "text/html": [
       "<div>\n",
       "<style scoped>\n",
       "    .dataframe tbody tr th:only-of-type {\n",
       "        vertical-align: middle;\n",
       "    }\n",
       "\n",
       "    .dataframe tbody tr th {\n",
       "        vertical-align: top;\n",
       "    }\n",
       "\n",
       "    .dataframe thead th {\n",
       "        text-align: right;\n",
       "    }\n",
       "</style>\n",
       "<table border=\"1\" class=\"dataframe\">\n",
       "  <thead>\n",
       "    <tr style=\"text-align: right;\">\n",
       "      <th></th>\n",
       "      <th>foot_traffic</th>\n",
       "      <th>pred_mean</th>\n",
       "      <th>pred_last_value</th>\n",
       "      <th>pred_ARIMA</th>\n",
       "    </tr>\n",
       "  </thead>\n",
       "  <tbody>\n",
       "    <tr>\n",
       "      <th>948</th>\n",
       "      <td>701.686830</td>\n",
       "      <td>481.204906</td>\n",
       "      <td>702.463430</td>\n",
       "      <td>701.743717</td>\n",
       "    </tr>\n",
       "    <tr>\n",
       "      <th>949</th>\n",
       "      <td>701.112198</td>\n",
       "      <td>481.437237</td>\n",
       "      <td>701.686830</td>\n",
       "      <td>700.872282</td>\n",
       "    </tr>\n",
       "    <tr>\n",
       "      <th>950</th>\n",
       "      <td>700.221501</td>\n",
       "      <td>481.668474</td>\n",
       "      <td>701.112198</td>\n",
       "      <td>700.447460</td>\n",
       "    </tr>\n",
       "    <tr>\n",
       "      <th>951</th>\n",
       "      <td>699.937948</td>\n",
       "      <td>481.898288</td>\n",
       "      <td>700.221501</td>\n",
       "      <td>699.580032</td>\n",
       "    </tr>\n",
       "    <tr>\n",
       "      <th>952</th>\n",
       "      <td>698.107264</td>\n",
       "      <td>482.127321</td>\n",
       "      <td>699.937948</td>\n",
       "      <td>699.358669</td>\n",
       "    </tr>\n",
       "  </tbody>\n",
       "</table>\n",
       "</div>"
      ],
      "text/plain": [
       "     foot_traffic   pred_mean  pred_last_value  pred_ARIMA\n",
       "948    701.686830  481.204906       702.463430  701.743717\n",
       "949    701.112198  481.437237       701.686830  700.872282\n",
       "950    700.221501  481.668474       701.112198  700.447460\n",
       "951    699.937948  481.898288       700.221501  699.580032\n",
       "952    698.107264  482.127321       699.937948  699.358669"
      ]
     },
     "execution_count": 32,
     "metadata": {},
     "output_type": "execute_result"
    }
   ],
   "source": [
    "TRAIN_LEN = len(train)\n",
    "HORIZON = len(test)\n",
    "WINDOW = 1    # Use a window of 1, just like in chapter 5\n",
    "\n",
    "pred_mean = rolling_forecast(df_ch5, TRAIN_LEN, HORIZON, WINDOW, 'mean')\n",
    "pred_last_value = rolling_forecast(df_ch5, TRAIN_LEN, HORIZON, WINDOW, 'last')\n",
    "pred_ARIMA = rolling_forecast(df_ch5, TRAIN_LEN, HORIZON, WINDOW, 'ARIMA')\n",
    "\n",
    "test.loc[:, 'pred_mean'] = pred_mean\n",
    "test.loc[:, 'pred_last_value'] = pred_last_value\n",
    "test.loc[:, 'pred_ARIMA'] = pred_ARIMA\n",
    "\n",
    "test.head()"
   ]
  },
  {
   "cell_type": "code",
   "execution_count": 33,
   "id": "2b4b4ca2",
   "metadata": {},
   "outputs": [
    {
     "name": "stdout",
     "output_type": "stream",
     "text": [
      "227.9348827539398 1.4751845139589823 0.7524470893109568\n"
     ]
    }
   ],
   "source": [
    "from sklearn.metrics import mean_absolute_error\n",
    "\n",
    "mean_mae = mean_absolute_error(test['foot_traffic'], test['pred_mean'])\n",
    "last_mae = mean_absolute_error(test['foot_traffic'], test['pred_last_value'])\n",
    "ARIMA_mae = mean_absolute_error(test['foot_traffic'], test['pred_ARIMA'])\n",
    "\n",
    "print(mean_mae, last_mae, ARIMA_mae)"
   ]
  },
  {
   "cell_type": "markdown",
   "id": "e2e680dc",
   "metadata": {},
   "source": [
    "Again, the ARIMA(3,1,0) achieves the best performance with the lowest MAE."
   ]
  },
  {
   "cell_type": "markdown",
   "id": "93d14cb5",
   "metadata": {},
   "source": [
    "### Chapter 6 "
   ]
  },
  {
   "cell_type": "code",
   "execution_count": 34,
   "id": "6f1b3beb",
   "metadata": {},
   "outputs": [
    {
     "data": {
      "text/html": [
       "<div>\n",
       "<style scoped>\n",
       "    .dataframe tbody tr th:only-of-type {\n",
       "        vertical-align: middle;\n",
       "    }\n",
       "\n",
       "    .dataframe tbody tr th {\n",
       "        vertical-align: top;\n",
       "    }\n",
       "\n",
       "    .dataframe thead th {\n",
       "        text-align: right;\n",
       "    }\n",
       "</style>\n",
       "<table border=\"1\" class=\"dataframe\">\n",
       "  <thead>\n",
       "    <tr style=\"text-align: right;\">\n",
       "      <th></th>\n",
       "      <th>hourly_bandwidth</th>\n",
       "    </tr>\n",
       "  </thead>\n",
       "  <tbody>\n",
       "    <tr>\n",
       "      <th>0</th>\n",
       "      <td>1000.496714</td>\n",
       "    </tr>\n",
       "    <tr>\n",
       "      <th>1</th>\n",
       "      <td>1000.969408</td>\n",
       "    </tr>\n",
       "    <tr>\n",
       "      <th>2</th>\n",
       "      <td>1002.046019</td>\n",
       "    </tr>\n",
       "    <tr>\n",
       "      <th>3</th>\n",
       "      <td>1004.702118</td>\n",
       "    </tr>\n",
       "    <tr>\n",
       "      <th>4</th>\n",
       "      <td>1007.447816</td>\n",
       "    </tr>\n",
       "  </tbody>\n",
       "</table>\n",
       "</div>"
      ],
      "text/plain": [
       "   hourly_bandwidth\n",
       "0       1000.496714\n",
       "1       1000.969408\n",
       "2       1002.046019\n",
       "3       1004.702118\n",
       "4       1007.447816"
      ]
     },
     "execution_count": 34,
     "metadata": {},
     "output_type": "execute_result"
    }
   ],
   "source": [
    "df_ch6 = pd.read_csv('../data/bandwidth.csv')\n",
    "\n",
    "df_ch6.head()"
   ]
  },
  {
   "cell_type": "code",
   "execution_count": 35,
   "id": "f525311a",
   "metadata": {},
   "outputs": [
    {
     "data": {
      "image/png": "[encoded data removed]",
      "text/plain": [
       "<Figure size 432x288 with 1 Axes>"
      ]
     },
     "metadata": {
      "needs_background": "light"
     },
     "output_type": "display_data"
    }
   ],
   "source": [
    "fig, ax = plt.subplots()\n",
    "\n",
    "ax.plot(df_ch6['hourly_bandwidth'])\n",
    "ax.set_xlabel('Time')\n",
    "ax.set_ylabel('Hourly bandwith usage (MBps)')\n",
    "\n",
    "plt.xticks(\n",
    "    np.arange(0, 10000, 730), \n",
    "    ['Jan 2019', 'Feb', 'Mar', 'Apr', 'May', 'Jun', 'Jul', 'Aug', 'Sep', 'Oct', 'Nov', 'Dec', 'Jan 2020', 'Feb'])\n",
    "\n",
    "fig.autofmt_xdate()\n",
    "plt.tight_layout()"
   ]
  },
  {
   "cell_type": "code",
   "execution_count": 36,
   "id": "e0f361f3",
   "metadata": {},
   "outputs": [
    {
     "name": "stdout",
     "output_type": "stream",
     "text": [
      "ADF Statistic: -0.8714653199452314\n",
      "p-value: 0.7972240255014685\n"
     ]
    }
   ],
   "source": [
    "ad_fuller_result = adfuller(df_ch6['hourly_bandwidth'])\n",
    "\n",
    "print(f'ADF Statistic: {ad_fuller_result[0]}')\n",
    "print(f'p-value: {ad_fuller_result[1]}')"
   ]
  },
  {
   "cell_type": "markdown",
   "id": "9c3df902",
   "metadata": {},
   "source": [
    "The series is not stationary, let's apply differencing."
   ]
  },
  {
   "cell_type": "code",
   "execution_count": 37,
   "id": "7f5eb45f",
   "metadata": {},
   "outputs": [
    {
     "name": "stdout",
     "output_type": "stream",
     "text": [
      "ADF Statistic: -20.69485386378902\n",
      "p-value: 0.0\n"
     ]
    }
   ],
   "source": [
    "df_ch6_diff = np.diff(df_ch6['hourly_bandwidth'], n=1)\n",
    "\n",
    "ad_fuller_result = adfuller(df_ch6_diff)\n",
    "\n",
    "print(f'ADF Statistic: {ad_fuller_result[0]}')\n",
    "print(f'p-value: {ad_fuller_result[1]}')"
   ]
  },
  {
   "cell_type": "markdown",
   "id": "add27974",
   "metadata": {},
   "source": [
    "The series is stationary, so we set $d=1$."
   ]
  },
  {
   "cell_type": "markdown",
   "id": "ce42ece8",
   "metadata": {},
   "source": [
    "In chapter 6, we kept the last 168 timesteps for the test set. We split the same way here."
   ]
  },
  {
   "cell_type": "code",
   "execution_count": 38,
   "id": "f5367767",
   "metadata": {},
   "outputs": [
    {
     "name": "stdout",
     "output_type": "stream",
     "text": [
      "9832\n",
      "168\n"
     ]
    }
   ],
   "source": [
    "train = df_ch6[:-168]\n",
    "test = df_ch6[-168:]\n",
    "\n",
    "print(len(train))\n",
    "print(len(test))"
   ]
  },
  {
   "cell_type": "code",
   "execution_count": 39,
   "id": "92e30c84",
   "metadata": {},
   "outputs": [],
   "source": [
    "ps = range(0, 4, 1)\n",
    "qs = range(0, 4, 1)\n",
    "d = 1\n",
    "\n",
    "order_list = list(product(ps, qs))"
   ]
  },
  {
   "cell_type": "code",
   "execution_count": 40,
   "id": "213b94e4",
   "metadata": {},
   "outputs": [
    {
     "data": {
      "application/vnd.jupyter.widget-view+json": {
       "model_id": "ae710101de2d4143986ed09a70d001d8",
       "version_major": 2,
       "version_minor": 0
      },
      "text/plain": [
       "  0%|          | 0/16 [00:00<?, ?it/s]"
      ]
     },
     "metadata": {},
     "output_type": "display_data"
    },
    {
     "data": {
      "text/html": [
       "<div>\n",
       "<style scoped>\n",
       "    .dataframe tbody tr th:only-of-type {\n",
       "        vertical-align: middle;\n",
       "    }\n",
       "\n",
       "    .dataframe tbody tr th {\n",
       "        vertical-align: top;\n",
       "    }\n",
       "\n",
       "    .dataframe thead th {\n",
       "        text-align: right;\n",
       "    }\n",
       "</style>\n",
       "<table border=\"1\" class=\"dataframe\">\n",
       "  <thead>\n",
       "    <tr style=\"text-align: right;\">\n",
       "      <th></th>\n",
       "      <th>(p,q)</th>\n",
       "      <th>AIC</th>\n",
       "    </tr>\n",
       "  </thead>\n",
       "  <tbody>\n",
       "    <tr>\n",
       "      <th>0</th>\n",
       "      <td>(3, 2)</td>\n",
       "      <td>27991.063157</td>\n",
       "    </tr>\n",
       "    <tr>\n",
       "      <th>1</th>\n",
       "      <td>(2, 3)</td>\n",
       "      <td>27991.286794</td>\n",
       "    </tr>\n",
       "    <tr>\n",
       "      <th>2</th>\n",
       "      <td>(2, 2)</td>\n",
       "      <td>27991.602936</td>\n",
       "    </tr>\n",
       "    <tr>\n",
       "      <th>3</th>\n",
       "      <td>(3, 3)</td>\n",
       "      <td>27993.416226</td>\n",
       "    </tr>\n",
       "    <tr>\n",
       "      <th>4</th>\n",
       "      <td>(1, 3)</td>\n",
       "      <td>28003.348864</td>\n",
       "    </tr>\n",
       "    <tr>\n",
       "      <th>5</th>\n",
       "      <td>(1, 2)</td>\n",
       "      <td>28051.350913</td>\n",
       "    </tr>\n",
       "    <tr>\n",
       "      <th>6</th>\n",
       "      <td>(3, 1)</td>\n",
       "      <td>28071.155049</td>\n",
       "    </tr>\n",
       "    <tr>\n",
       "      <th>7</th>\n",
       "      <td>(3, 0)</td>\n",
       "      <td>28095.617602</td>\n",
       "    </tr>\n",
       "    <tr>\n",
       "      <th>8</th>\n",
       "      <td>(2, 1)</td>\n",
       "      <td>28097.250206</td>\n",
       "    </tr>\n",
       "    <tr>\n",
       "      <th>9</th>\n",
       "      <td>(2, 0)</td>\n",
       "      <td>28098.407146</td>\n",
       "    </tr>\n",
       "    <tr>\n",
       "      <th>10</th>\n",
       "      <td>(1, 1)</td>\n",
       "      <td>28172.509269</td>\n",
       "    </tr>\n",
       "    <tr>\n",
       "      <th>11</th>\n",
       "      <td>(1, 0)</td>\n",
       "      <td>28941.056101</td>\n",
       "    </tr>\n",
       "    <tr>\n",
       "      <th>12</th>\n",
       "      <td>(0, 3)</td>\n",
       "      <td>31355.801924</td>\n",
       "    </tr>\n",
       "    <tr>\n",
       "      <th>13</th>\n",
       "      <td>(0, 2)</td>\n",
       "      <td>33531.177837</td>\n",
       "    </tr>\n",
       "    <tr>\n",
       "      <th>14</th>\n",
       "      <td>(0, 1)</td>\n",
       "      <td>39402.268889</td>\n",
       "    </tr>\n",
       "    <tr>\n",
       "      <th>15</th>\n",
       "      <td>(0, 0)</td>\n",
       "      <td>49035.184225</td>\n",
       "    </tr>\n",
       "  </tbody>\n",
       "</table>\n",
       "</div>"
      ],
      "text/plain": [
       "     (p,q)           AIC\n",
       "0   (3, 2)  27991.063157\n",
       "1   (2, 3)  27991.286794\n",
       "2   (2, 2)  27991.602936\n",
       "3   (3, 3)  27993.416226\n",
       "4   (1, 3)  28003.348864\n",
       "5   (1, 2)  28051.350913\n",
       "6   (3, 1)  28071.155049\n",
       "7   (3, 0)  28095.617602\n",
       "8   (2, 1)  28097.250206\n",
       "9   (2, 0)  28098.407146\n",
       "10  (1, 1)  28172.509269\n",
       "11  (1, 0)  28941.056101\n",
       "12  (0, 3)  31355.801924\n",
       "13  (0, 2)  33531.177837\n",
       "14  (0, 1)  39402.268889\n",
       "15  (0, 0)  49035.184225"
      ]
     },
     "execution_count": 40,
     "metadata": {},
     "output_type": "execute_result"
    }
   ],
   "source": [
    "result_df = optimize_ARIMA(train, order_list, d)\n",
    "result_df"
   ]
  },
  {
   "cell_type": "markdown",
   "id": "667cf8f6",
   "metadata": {},
   "source": [
    "The ARIMA(3,1,2) model achieves the lowest AIC, but it is only slightly lower than the ARIMA(2,1,2) model."
   ]
  },
  {
   "cell_type": "code",
   "execution_count": 41,
   "id": "2300a39e",
   "metadata": {},
   "outputs": [
    {
     "name": "stdout",
     "output_type": "stream",
     "text": [
      "                               SARIMAX Results                                \n",
      "==============================================================================\n",
      "Dep. Variable:       hourly_bandwidth   No. Observations:                 9832\n",
      "Model:               SARIMAX(2, 1, 2)   Log Likelihood              -13990.801\n",
      "Date:                Mon, 10 Jan 2022   AIC                          27991.603\n",
      "Time:                        16:59:30   BIC                          28027.569\n",
      "Sample:                             0   HQIC                         28003.788\n",
      "                               - 9832                                         \n",
      "Covariance Type:                  opg                                         \n",
      "==============================================================================\n",
      "                 coef    std err          z      P>|z|      [0.025      0.975]\n",
      "------------------------------------------------------------------------------\n",
      "ar.L1          0.3486      0.052      6.765      0.000       0.248       0.450\n",
      "ar.L2          0.4743      0.047     10.000      0.000       0.381       0.567\n",
      "ma.L1          0.8667      0.050     17.249      0.000       0.768       0.965\n",
      "ma.L2          0.2807      0.015     19.233      0.000       0.252       0.309\n",
      "sigma2         1.0082      0.014     70.654      0.000       0.980       1.036\n",
      "===================================================================================\n",
      "Ljung-Box (L1) (Q):                   0.04   Jarque-Bera (JB):                 0.50\n",
      "Prob(Q):                              0.84   Prob(JB):                         0.78\n",
      "Heteroskedasticity (H):               1.06   Skew:                             0.00\n",
      "Prob(H) (two-sided):                  0.12   Kurtosis:                         3.03\n",
      "===================================================================================\n",
      "\n",
      "Warnings:\n",
      "[1] Covariance matrix calculated using the outer product of gradients (complex-step).\n"
     ]
    }
   ],
   "source": [
    "model = SARIMAX(train, order=(2,1,2), simple_differencing=False)\n",
    "model_fit = model.fit(disp=False)\n",
    "\n",
    "print(model_fit.summary())"
   ]
  },
  {
   "cell_type": "code",
   "execution_count": 42,
   "id": "05f841d8",
   "metadata": {},
   "outputs": [
    {
     "data": {
      "image/png": "[encoded data removed]",
      "text/plain": [
       "<Figure size 720x576 with 4 Axes>"
      ]
     },
     "metadata": {
      "needs_background": "light"
     },
     "output_type": "display_data"
    }
   ],
   "source": [
    "model_fit.plot_diagnostics(figsize=(10,8));"
   ]
  },
  {
   "cell_type": "code",
   "execution_count": 43,
   "id": "afbab93b",
   "metadata": {},
   "outputs": [
    {
     "name": "stdout",
     "output_type": "stream",
     "text": [
      "[0.96502014 0.99743637 0.99890122 0.9999166  0.99999392 0.99999749\n",
      " 0.99999966 0.99999997 1.         1.        ]\n"
     ]
    }
   ],
   "source": [
    "residuals = model_fit.resid\n",
    "\n",
    "lbvalue, pvalue = acorr_ljungbox(residuals, np.arange(1, 11, 1))\n",
    "\n",
    "print(pvalue)"
   ]
  },
  {
   "cell_type": "code",
   "execution_count": 44,
   "id": "2fbb539b",
   "metadata": {},
   "outputs": [],
   "source": [
    "def rolling_forecast(df: pd.DataFrame, train_len: int, horizon: int, window: int, method: str) -> list:\n",
    "    \n",
    "    total_len = train_len + horizon\n",
    "    \n",
    "    if method == 'mean':\n",
    "        pred_mean = []\n",
    "        \n",
    "        for i in range(train_len, total_len, window):\n",
    "            mean = np.mean(df[:i].values)\n",
    "            pred_mean.extend(mean for _ in range(window))\n",
    "\n",
    "        return pred_mean\n",
    "\n",
    "    elif method == 'last':\n",
    "        pred_last_value = []\n",
    "        \n",
    "        for i in range(train_len, total_len, window):\n",
    "            last_value = df[:i].iloc[-1].values[0]\n",
    "            pred_last_value.extend(last_value for _ in range(window))\n",
    "            \n",
    "        return pred_last_value\n",
    "    \n",
    "    elif method == 'ARIMA':\n",
    "        pred_ARIMA = []\n",
    "        \n",
    "        for i in range(train_len, total_len, window):\n",
    "            model = SARIMAX(df[:i], order=(2,1,2))    # Set the right ARIMA parameters\n",
    "            res = model.fit(disp=False)\n",
    "            predictions = res.get_prediction(0, i + window - 1)\n",
    "            oos_pred = predictions.predicted_mean.iloc[-window:]\n",
    "            pred_ARIMA.extend(oos_pred)\n",
    "            \n",
    "        return pred_ARIMA"
   ]
  },
  {
   "cell_type": "code",
   "execution_count": 45,
   "id": "53ad6a44",
   "metadata": {},
   "outputs": [
    {
     "data": {
      "text/html": [
       "<div>\n",
       "<style scoped>\n",
       "    .dataframe tbody tr th:only-of-type {\n",
       "        vertical-align: middle;\n",
       "    }\n",
       "\n",
       "    .dataframe tbody tr th {\n",
       "        vertical-align: top;\n",
       "    }\n",
       "\n",
       "    .dataframe thead th {\n",
       "        text-align: right;\n",
       "    }\n",
       "</style>\n",
       "<table border=\"1\" class=\"dataframe\">\n",
       "  <thead>\n",
       "    <tr style=\"text-align: right;\">\n",
       "      <th></th>\n",
       "      <th>hourly_bandwidth</th>\n",
       "      <th>pred_mean</th>\n",
       "      <th>pred_last_value</th>\n",
       "      <th>pred_ARIMA</th>\n",
       "    </tr>\n",
       "  </thead>\n",
       "  <tbody>\n",
       "    <tr>\n",
       "      <th>9832</th>\n",
       "      <td>717.176939</td>\n",
       "      <td>1241.072644</td>\n",
       "      <td>723.120934</td>\n",
       "      <td>717.660272</td>\n",
       "    </tr>\n",
       "    <tr>\n",
       "      <th>9833</th>\n",
       "      <td>711.311745</td>\n",
       "      <td>1241.072644</td>\n",
       "      <td>723.120934</td>\n",
       "      <td>712.769646</td>\n",
       "    </tr>\n",
       "    <tr>\n",
       "      <th>9834</th>\n",
       "      <td>708.114679</td>\n",
       "      <td>1240.965500</td>\n",
       "      <td>711.311745</td>\n",
       "      <td>705.975840</td>\n",
       "    </tr>\n",
       "    <tr>\n",
       "      <th>9835</th>\n",
       "      <td>707.024482</td>\n",
       "      <td>1240.965500</td>\n",
       "      <td>711.311745</td>\n",
       "      <td>701.224109</td>\n",
       "    </tr>\n",
       "    <tr>\n",
       "      <th>9836</th>\n",
       "      <td>707.689774</td>\n",
       "      <td>1240.857042</td>\n",
       "      <td>707.024482</td>\n",
       "      <td>706.648886</td>\n",
       "    </tr>\n",
       "  </tbody>\n",
       "</table>\n",
       "</div>"
      ],
      "text/plain": [
       "      hourly_bandwidth    pred_mean  pred_last_value  pred_ARIMA\n",
       "9832        717.176939  1241.072644       723.120934  717.660272\n",
       "9833        711.311745  1241.072644       723.120934  712.769646\n",
       "9834        708.114679  1240.965500       711.311745  705.975840\n",
       "9835        707.024482  1240.965500       711.311745  701.224109\n",
       "9836        707.689774  1240.857042       707.024482  706.648886"
      ]
     },
     "execution_count": 45,
     "metadata": {},
     "output_type": "execute_result"
    }
   ],
   "source": [
    "TRAIN_LEN = len(train)\n",
    "HORIZON = len(test)\n",
    "WINDOW = 2    # Use a window of 2, just like in chapter 6\n",
    "\n",
    "pred_mean = rolling_forecast(df_ch6, TRAIN_LEN, HORIZON, WINDOW, 'mean')\n",
    "pred_last_value = rolling_forecast(df_ch6, TRAIN_LEN, HORIZON, WINDOW, 'last')\n",
    "pred_ARIMA = rolling_forecast(df_ch6, TRAIN_LEN, HORIZON, WINDOW, 'ARIMA')\n",
    "\n",
    "test.loc[:, 'pred_mean'] = pred_mean\n",
    "test.loc[:, 'pred_last_value'] = pred_last_value\n",
    "test.loc[:, 'pred_ARIMA'] = pred_ARIMA\n",
    "\n",
    "test.head()"
   ]
  },
  {
   "cell_type": "code",
   "execution_count": 46,
   "id": "6987c9fa",
   "metadata": {},
   "outputs": [
    {
     "name": "stdout",
     "output_type": "stream",
     "text": [
      "497.927419811828 2.8444991498767638 1.384422458512391\n"
     ]
    }
   ],
   "source": [
    "mean_mae = mean_absolute_error(test['hourly_bandwidth'], test['pred_mean'])\n",
    "last_mae = mean_absolute_error(test['hourly_bandwidth'], test['pred_last_value'])\n",
    "ARIMA_mae = mean_absolute_error(test['hourly_bandwidth'], test['pred_ARIMA'])\n",
    "\n",
    "print(mean_mae, last_mae, ARIMA_mae)"
   ]
  },
  {
   "cell_type": "markdown",
   "id": "d743d931",
   "metadata": {},
   "source": [
    "Again, the ARIMA(2,1,2) achieves the best performance since it has the lowest MAE."
   ]
  },
  {
   "cell_type": "code",
   "execution_count": null,
   "id": "c0a9e4a4",
   "metadata": {},
   "outputs": [],
   "source": []
  }
 ],
 "metadata": {
  "kernelspec": {
   "display_name": "Python 3 (ipykernel)",
   "language": "python",
   "name": "python3"
  },
  "language_info": {
   "codemirror_mode": {
    "name": "ipython",
    "version": 3
   },
   "file_extension": ".py",
   "mimetype": "text/x-python",
   "name": "python",
   "nbconvert_exporter": "python",
   "pygments_lexer": "ipython3",
   "version": "3.7.4"
  }
 },
 "nbformat": 4,
 "nbformat_minor": 5
}
